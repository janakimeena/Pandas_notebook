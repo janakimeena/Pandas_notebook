{
  "nbformat": 4,
  "nbformat_minor": 5,
  "metadata": {
    "kernelspec": {
      "display_name": "Python 3",
      "language": "python",
      "name": "python3"
    },
    "language_info": {
      "codemirror_mode": {
        "name": "ipython",
        "version": 3
      },
      "file_extension": ".py",
      "mimetype": "text/x-python",
      "name": "python",
      "nbconvert_exporter": "python",
      "pygments_lexer": "ipython3",
      "version": "3.8.8"
    },
    "colab": {
      "name": "Creating a DataFrame.ipynb",
      "provenance": [],
      "collapsed_sections": []
    }
  },
  "cells": [
    {
      "cell_type": "markdown",
      "metadata": {
        "id": "d472c100"
      },
      "source": [
        "### Pandas\n"
      ],
      "id": "d472c100"
    },
    {
      "cell_type": "markdown",
      "metadata": {
        "id": "e10deadf"
      },
      "source": [
        "*   Open source Python package\n",
        "*   Provides high-performance, easy-to-use data structures and data analysis tool  "
      ],
      "id": "e10deadf"
    },
    {
      "cell_type": "markdown",
      "metadata": {
        "id": "2d7fc7e3"
      },
      "source": [
        "### Basic Unit of Pandas"
      ],
      "id": "2d7fc7e3"
    },
    {
      "cell_type": "markdown",
      "metadata": {
        "id": "00f2f5fb"
      },
      "source": [
        "<ol>\n",
        "<li>Series - one-dimensional labeled array capable of holding data of any type (integer, string, float, python objects, etc.</li>\n",
        "<li>Dataframes- two-dimensional data structure, i.e., data is aligned in a tabular fashion in rows and columns - dataframe shall be collection of series</li>\n",
        "</ol>"
      ],
      "id": "00f2f5fb"
    },
    {
      "cell_type": "code",
      "metadata": {
        "id": "d57eed8d"
      },
      "source": [
        "import pandas as pd\n",
        "import numpy as np"
      ],
      "id": "d57eed8d",
      "execution_count": null,
      "outputs": []
    },
    {
      "cell_type": "markdown",
      "metadata": {
        "id": "0401f0f6"
      },
      "source": [
        "### Creating a Dataframe "
      ],
      "id": "0401f0f6"
    },
    {
      "cell_type": "markdown",
      "metadata": {
        "id": "f7a0a999"
      },
      "source": [
        "#### From a list of lists"
      ],
      "id": "f7a0a999"
    },
    {
      "cell_type": "code",
      "metadata": {
        "id": "eadce0d3"
      },
      "source": [
        "data = [['Abinav',95],['Radha',87],['Kumar',98],['Amutha',71],['Ramesh',63]]"
      ],
      "id": "eadce0d3",
      "execution_count": null,
      "outputs": []
    },
    {
      "cell_type": "code",
      "metadata": {
        "id": "118e379c"
      },
      "source": [
        "marks_df = pd.DataFrame(data,columns=['Name','Marks'])"
      ],
      "id": "118e379c",
      "execution_count": null,
      "outputs": []
    },
    {
      "cell_type": "code",
      "metadata": {
        "id": "b1d86e49",
        "colab": {
          "base_uri": "https://localhost:8080/",
          "height": 206
        },
        "outputId": "3e996788-7cd9-454d-bc6c-8acee3e0e050"
      },
      "source": [
        "marks_df"
      ],
      "id": "b1d86e49",
      "execution_count": null,
      "outputs": [
        {
          "output_type": "execute_result",
          "data": {
            "text/html": [
              "<div>\n",
              "<style scoped>\n",
              "    .dataframe tbody tr th:only-of-type {\n",
              "        vertical-align: middle;\n",
              "    }\n",
              "\n",
              "    .dataframe tbody tr th {\n",
              "        vertical-align: top;\n",
              "    }\n",
              "\n",
              "    .dataframe thead th {\n",
              "        text-align: right;\n",
              "    }\n",
              "</style>\n",
              "<table border=\"1\" class=\"dataframe\">\n",
              "  <thead>\n",
              "    <tr style=\"text-align: right;\">\n",
              "      <th></th>\n",
              "      <th>Name</th>\n",
              "      <th>Marks</th>\n",
              "    </tr>\n",
              "  </thead>\n",
              "  <tbody>\n",
              "    <tr>\n",
              "      <th>0</th>\n",
              "      <td>Abinav</td>\n",
              "      <td>95</td>\n",
              "    </tr>\n",
              "    <tr>\n",
              "      <th>1</th>\n",
              "      <td>Radha</td>\n",
              "      <td>87</td>\n",
              "    </tr>\n",
              "    <tr>\n",
              "      <th>2</th>\n",
              "      <td>Kumar</td>\n",
              "      <td>98</td>\n",
              "    </tr>\n",
              "    <tr>\n",
              "      <th>3</th>\n",
              "      <td>Ramesh</td>\n",
              "      <td>63</td>\n",
              "    </tr>\n",
              "    <tr>\n",
              "      <th>4</th>\n",
              "      <td>Amutha</td>\n",
              "      <td>71</td>\n",
              "    </tr>\n",
              "  </tbody>\n",
              "</table>\n",
              "</div>"
            ],
            "text/plain": [
              "     Name  Marks\n",
              "0  Abinav     95\n",
              "1   Radha     87\n",
              "2   Kumar     98\n",
              "3  Ramesh     63\n",
              "4  Amutha     71"
            ]
          },
          "metadata": {},
          "execution_count": 21
        }
      ]
    },
    {
      "cell_type": "markdown",
      "metadata": {
        "id": "M4Rpk1HKns-c"
      },
      "source": [
        "#### Take transpose of a dataframe"
      ],
      "id": "M4Rpk1HKns-c"
    },
    {
      "cell_type": "code",
      "metadata": {
        "id": "8d2595b5",
        "colab": {
          "base_uri": "https://localhost:8080/",
          "height": 112
        },
        "outputId": "ecf32f97-3461-46a0-f4a3-fe0b287233f4"
      },
      "source": [
        "marks_df.T"
      ],
      "id": "8d2595b5",
      "execution_count": null,
      "outputs": [
        {
          "output_type": "execute_result",
          "data": {
            "text/html": [
              "<div>\n",
              "<style scoped>\n",
              "    .dataframe tbody tr th:only-of-type {\n",
              "        vertical-align: middle;\n",
              "    }\n",
              "\n",
              "    .dataframe tbody tr th {\n",
              "        vertical-align: top;\n",
              "    }\n",
              "\n",
              "    .dataframe thead th {\n",
              "        text-align: right;\n",
              "    }\n",
              "</style>\n",
              "<table border=\"1\" class=\"dataframe\">\n",
              "  <thead>\n",
              "    <tr style=\"text-align: right;\">\n",
              "      <th></th>\n",
              "      <th>0</th>\n",
              "      <th>1</th>\n",
              "      <th>2</th>\n",
              "      <th>3</th>\n",
              "      <th>4</th>\n",
              "    </tr>\n",
              "  </thead>\n",
              "  <tbody>\n",
              "    <tr>\n",
              "      <th>Name</th>\n",
              "      <td>Abinav</td>\n",
              "      <td>Radha</td>\n",
              "      <td>Kumar</td>\n",
              "      <td>Ramesh</td>\n",
              "      <td>Amutha</td>\n",
              "    </tr>\n",
              "    <tr>\n",
              "      <th>Marks</th>\n",
              "      <td>95</td>\n",
              "      <td>87</td>\n",
              "      <td>98</td>\n",
              "      <td>63</td>\n",
              "      <td>71</td>\n",
              "    </tr>\n",
              "  </tbody>\n",
              "</table>\n",
              "</div>"
            ],
            "text/plain": [
              "            0      1      2       3       4\n",
              "Name   Abinav  Radha  Kumar  Ramesh  Amutha\n",
              "Marks      95     87     98      63      71"
            ]
          },
          "metadata": {},
          "execution_count": 22
        }
      ]
    },
    {
      "cell_type": "code",
      "metadata": {
        "id": "3bc8c3bd",
        "colab": {
          "base_uri": "https://localhost:8080/"
        },
        "outputId": "cf3e9be8-1352-42e4-9b65-4355d47b363e"
      },
      "source": [
        "type(marks_df)"
      ],
      "id": "3bc8c3bd",
      "execution_count": null,
      "outputs": [
        {
          "output_type": "execute_result",
          "data": {
            "text/plain": [
              "pandas.core.frame.DataFrame"
            ]
          },
          "metadata": {},
          "execution_count": 23
        }
      ]
    },
    {
      "cell_type": "code",
      "metadata": {
        "colab": {
          "base_uri": "https://localhost:8080/"
        },
        "id": "9T03CEaaqJOV",
        "outputId": "8b2ec0db-811d-4b13-87e0-4c1130462652"
      },
      "source": [
        "type(marks_df['Name'])"
      ],
      "id": "9T03CEaaqJOV",
      "execution_count": null,
      "outputs": [
        {
          "output_type": "execute_result",
          "data": {
            "text/plain": [
              "pandas.core.series.Series"
            ]
          },
          "metadata": {},
          "execution_count": 25
        }
      ]
    },
    {
      "cell_type": "markdown",
      "metadata": {
        "id": "3abe4af8"
      },
      "source": [
        "#### From Two Lists using Zip"
      ],
      "id": "3abe4af8"
    },
    {
      "cell_type": "code",
      "metadata": {
        "id": "8303e857"
      },
      "source": [
        "Names = ['Abinav','Radha','Kumar','Amutha','Ramesh']\n",
        "Marks = [95,87,98,71,63]"
      ],
      "id": "8303e857",
      "execution_count": null,
      "outputs": []
    },
    {
      "cell_type": "code",
      "metadata": {
        "id": "b27b550c"
      },
      "source": [
        "marks_df = pd.DataFrame(list(zip(Names,Marks)),columns=['Name','Marks'])"
      ],
      "id": "b27b550c",
      "execution_count": null,
      "outputs": []
    },
    {
      "cell_type": "code",
      "metadata": {
        "id": "6baae7d9",
        "colab": {
          "base_uri": "https://localhost:8080/",
          "height": 206
        },
        "outputId": "8f4d8b04-b848-438a-98ee-9c65a91cc6f8"
      },
      "source": [
        "marks_df"
      ],
      "id": "6baae7d9",
      "execution_count": null,
      "outputs": [
        {
          "output_type": "execute_result",
          "data": {
            "text/html": [
              "<div>\n",
              "<style scoped>\n",
              "    .dataframe tbody tr th:only-of-type {\n",
              "        vertical-align: middle;\n",
              "    }\n",
              "\n",
              "    .dataframe tbody tr th {\n",
              "        vertical-align: top;\n",
              "    }\n",
              "\n",
              "    .dataframe thead th {\n",
              "        text-align: right;\n",
              "    }\n",
              "</style>\n",
              "<table border=\"1\" class=\"dataframe\">\n",
              "  <thead>\n",
              "    <tr style=\"text-align: right;\">\n",
              "      <th></th>\n",
              "      <th>Name</th>\n",
              "      <th>Marks</th>\n",
              "    </tr>\n",
              "  </thead>\n",
              "  <tbody>\n",
              "    <tr>\n",
              "      <th>0</th>\n",
              "      <td>Abinav</td>\n",
              "      <td>95</td>\n",
              "    </tr>\n",
              "    <tr>\n",
              "      <th>1</th>\n",
              "      <td>Radha</td>\n",
              "      <td>87</td>\n",
              "    </tr>\n",
              "    <tr>\n",
              "      <th>2</th>\n",
              "      <td>Kumar</td>\n",
              "      <td>98</td>\n",
              "    </tr>\n",
              "    <tr>\n",
              "      <th>3</th>\n",
              "      <td>Amutha</td>\n",
              "      <td>71</td>\n",
              "    </tr>\n",
              "    <tr>\n",
              "      <th>4</th>\n",
              "      <td>Ramesh</td>\n",
              "      <td>63</td>\n",
              "    </tr>\n",
              "  </tbody>\n",
              "</table>\n",
              "</div>"
            ],
            "text/plain": [
              "     Name  Marks\n",
              "0  Abinav     95\n",
              "1   Radha     87\n",
              "2   Kumar     98\n",
              "3  Amutha     71\n",
              "4  Ramesh     63"
            ]
          },
          "metadata": {},
          "execution_count": 28
        }
      ]
    },
    {
      "cell_type": "markdown",
      "metadata": {
        "id": "47ea589e"
      },
      "source": [
        "#### From dict of narray/lists"
      ],
      "id": "47ea589e"
    },
    {
      "cell_type": "code",
      "metadata": {
        "id": "ecfcf309"
      },
      "source": [
        "data = {'Name':['Abinav','Radha','Kumar','Amutha','Ramesh'],'Marks':[95,87,98,71,63]}"
      ],
      "id": "ecfcf309",
      "execution_count": null,
      "outputs": []
    },
    {
      "cell_type": "code",
      "metadata": {
        "id": "56cdf47a"
      },
      "source": [
        "marks_df = pd.DataFrame(data)"
      ],
      "id": "56cdf47a",
      "execution_count": null,
      "outputs": []
    },
    {
      "cell_type": "code",
      "metadata": {
        "id": "e74c3c88",
        "colab": {
          "base_uri": "https://localhost:8080/",
          "height": 206
        },
        "outputId": "61522f56-69c2-41db-ac43-6735e712b138"
      },
      "source": [
        "marks_df"
      ],
      "id": "e74c3c88",
      "execution_count": null,
      "outputs": [
        {
          "output_type": "execute_result",
          "data": {
            "text/html": [
              "<div>\n",
              "<style scoped>\n",
              "    .dataframe tbody tr th:only-of-type {\n",
              "        vertical-align: middle;\n",
              "    }\n",
              "\n",
              "    .dataframe tbody tr th {\n",
              "        vertical-align: top;\n",
              "    }\n",
              "\n",
              "    .dataframe thead th {\n",
              "        text-align: right;\n",
              "    }\n",
              "</style>\n",
              "<table border=\"1\" class=\"dataframe\">\n",
              "  <thead>\n",
              "    <tr style=\"text-align: right;\">\n",
              "      <th></th>\n",
              "      <th>Name</th>\n",
              "      <th>Marks</th>\n",
              "    </tr>\n",
              "  </thead>\n",
              "  <tbody>\n",
              "    <tr>\n",
              "      <th>0</th>\n",
              "      <td>Abinav</td>\n",
              "      <td>95</td>\n",
              "    </tr>\n",
              "    <tr>\n",
              "      <th>1</th>\n",
              "      <td>Radha</td>\n",
              "      <td>87</td>\n",
              "    </tr>\n",
              "    <tr>\n",
              "      <th>2</th>\n",
              "      <td>Kumar</td>\n",
              "      <td>98</td>\n",
              "    </tr>\n",
              "    <tr>\n",
              "      <th>3</th>\n",
              "      <td>Amutha</td>\n",
              "      <td>71</td>\n",
              "    </tr>\n",
              "    <tr>\n",
              "      <th>4</th>\n",
              "      <td>Ramesh</td>\n",
              "      <td>63</td>\n",
              "    </tr>\n",
              "  </tbody>\n",
              "</table>\n",
              "</div>"
            ],
            "text/plain": [
              "     Name  Marks\n",
              "0  Abinav     95\n",
              "1   Radha     87\n",
              "2   Kumar     98\n",
              "3  Amutha     71\n",
              "4  Ramesh     63"
            ]
          },
          "metadata": {},
          "execution_count": 31
        }
      ]
    },
    {
      "cell_type": "markdown",
      "metadata": {
        "id": "d6b48586"
      },
      "source": [
        "#### From a lists of dictionaries"
      ],
      "id": "d6b48586"
    },
    {
      "cell_type": "code",
      "metadata": {
        "id": "92df80aa"
      },
      "source": [
        "data = [{'Name':'Abinav','Marks':95}, {'Name':'Radha','Marks':87},{'Name':'Kumar','Marks':98},{'Name':'Ramesh','Marks':63},{'Name':'Amutha','Marks':71}]"
      ],
      "id": "92df80aa",
      "execution_count": null,
      "outputs": []
    },
    {
      "cell_type": "code",
      "metadata": {
        "id": "66ae10c2"
      },
      "source": [
        "marks_df = pd.DataFrame(data)"
      ],
      "id": "66ae10c2",
      "execution_count": null,
      "outputs": []
    },
    {
      "cell_type": "code",
      "metadata": {
        "id": "148ea498",
        "colab": {
          "base_uri": "https://localhost:8080/",
          "height": 206
        },
        "outputId": "88587292-6ee7-48f9-977f-e47959d68576"
      },
      "source": [
        "marks_df"
      ],
      "id": "148ea498",
      "execution_count": null,
      "outputs": [
        {
          "output_type": "execute_result",
          "data": {
            "text/html": [
              "<div>\n",
              "<style scoped>\n",
              "    .dataframe tbody tr th:only-of-type {\n",
              "        vertical-align: middle;\n",
              "    }\n",
              "\n",
              "    .dataframe tbody tr th {\n",
              "        vertical-align: top;\n",
              "    }\n",
              "\n",
              "    .dataframe thead th {\n",
              "        text-align: right;\n",
              "    }\n",
              "</style>\n",
              "<table border=\"1\" class=\"dataframe\">\n",
              "  <thead>\n",
              "    <tr style=\"text-align: right;\">\n",
              "      <th></th>\n",
              "      <th>Name</th>\n",
              "      <th>Marks</th>\n",
              "    </tr>\n",
              "  </thead>\n",
              "  <tbody>\n",
              "    <tr>\n",
              "      <th>0</th>\n",
              "      <td>Abinav</td>\n",
              "      <td>95</td>\n",
              "    </tr>\n",
              "    <tr>\n",
              "      <th>1</th>\n",
              "      <td>Radha</td>\n",
              "      <td>87</td>\n",
              "    </tr>\n",
              "    <tr>\n",
              "      <th>2</th>\n",
              "      <td>Kumar</td>\n",
              "      <td>98</td>\n",
              "    </tr>\n",
              "    <tr>\n",
              "      <th>3</th>\n",
              "      <td>Ramesh</td>\n",
              "      <td>63</td>\n",
              "    </tr>\n",
              "    <tr>\n",
              "      <th>4</th>\n",
              "      <td>Amutha</td>\n",
              "      <td>71</td>\n",
              "    </tr>\n",
              "  </tbody>\n",
              "</table>\n",
              "</div>"
            ],
            "text/plain": [
              "     Name  Marks\n",
              "0  Abinav     95\n",
              "1   Radha     87\n",
              "2   Kumar     98\n",
              "3  Ramesh     63\n",
              "4  Amutha     71"
            ]
          },
          "metadata": {},
          "execution_count": 34
        }
      ]
    },
    {
      "cell_type": "code",
      "metadata": {
        "id": "1Z9tMLDGrDXm"
      },
      "source": [
        ""
      ],
      "id": "1Z9tMLDGrDXm",
      "execution_count": null,
      "outputs": []
    }
  ]
}